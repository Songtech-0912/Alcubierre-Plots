{
 "cells": [
  {
   "cell_type": "markdown",
   "id": "1aae7c06",
   "metadata": {},
   "source": [
    "# Plotting the Alcubierre metric\n",
    "\n",
    "These plots assume a 1 meter diameter bubble with $v_s = c = 1$. Please inform me if there are any significant mistakes, because I am pretty sure...there are.\n",
    "\n",
    "This is also all thanks to a kindly-made [community implementation](https://github.com/ysnkhll/Alcubierre-Warp-Drive) of the Alcubierre metric within Python, to whom I am deeply indebted. In fact, you can consider this a fork of the aforementioned repository (with a **lot** of tweaks), with an added 3D plot of the energy requirements."
   ]
  },
  {
   "cell_type": "markdown",
   "id": "e39213a7",
   "metadata": {},
   "source": [
    "Imports are here purely for convenience' sake."
   ]
  },
  {
   "cell_type": "code",
   "execution_count": 2,
   "id": "76880d50",
   "metadata": {},
   "outputs": [],
   "source": [
    "# importing required libraries\n",
    "import math\n",
    "from mpl_toolkits import mplot3d\n",
    "import matplotlib.pyplot as plt\n",
    "%matplotlib notebook\n",
    "import numpy as np\n",
    "import ipywidgets as widgets"
   ]
  },
  {
   "cell_type": "markdown",
   "id": "c6bf2413",
   "metadata": {},
   "source": [
    "Actual functions are defined here, based on both Alcubierre's 1994 paper and your (incredibly helpful) NASA presentations."
   ]
  },
  {
   "cell_type": "code",
   "execution_count": 3,
   "id": "4d3da078",
   "metadata": {},
   "outputs": [],
   "source": [
    "def rho(y, z):\n",
    "    return np.sqrt(y**2 + z**2)\n",
    "\n",
    "\n",
    "def d_rs(x, rho, xs=2.5):\n",
    "    return ((x - xs)**2 + rho**2)**(1/2)\n",
    "\n",
    "# Shaping function\n",
    "# rs is distance away from the center of the bubble\n",
    "# R is the diameter of flat spacetime within the bubble\n",
    "def d_frs(rs, sigma=8, R=1):\n",
    "    a = sigma * (np.tanh((R + rs)*sigma)**2 - 1)\n",
    "    b = sigma * ((np.tanh(-(R - rs)*sigma)**2 - 1) / np.tanh(R * sigma))\n",
    "    return (-1/2) * (a - b)\n",
    "\n",
    "def theta(x, p, xs=2.5, s=8, R=1):\n",
    "    vs = R\n",
    "    drs = d_rs(x, p, xs)\n",
    "    dfrs = d_frs(drs, s, R)\n",
    "    return vs * ((x - xs) / drs) * dfrs\n",
    "\n",
    "def energy_density(x, p, xs, s=8, R=1, rs=8):\n",
    "    vs = R\n",
    "    drs = d_rs(x, p, xs)\n",
    "    dfrs = d_frs(drs, s, R)\n",
    "    return -(1/(8 * np.pi)) * ((vs ** 2 * p ** 2) / (4 * rs ** 2)) * ((dfrs / drs)**2)"
   ]
  },
  {
   "cell_type": "markdown",
   "id": "f7a00814",
   "metadata": {},
   "source": [
    "The next two graphs will show that as the york time magnitude decreases, the energy density magnitude also decreases, but the \"bubble\" thickness increases. Thus, a thicker and \"sloppier\" bubble reduces the energy requirements, as shown in the below two graphs. Unfortunately, the volume of the flat space-time in the center of the bubble is also reduced, which means our ship has to be smaller."
   ]
  },
  {
   "cell_type": "code",
   "execution_count": 4,
   "id": "cee99880",
   "metadata": {},
   "outputs": [
    {
     "data": {
      "application/vnd.jupyter.widget-view+json": {
       "model_id": "dfb8af6c4eda44408aacc2272f171505",
       "version_major": 2,
       "version_minor": 0
      },
      "text/plain": [
       "interactive(children=(FloatSlider(value=8.0, continuous_update=False, description='York time magnitude', max=1…"
      ]
     },
     "metadata": {},
     "output_type": "display_data"
    },
    {
     "data": {
      "text/plain": [
       "<function __main__.plot_theta(ytm)>"
      ]
     },
     "execution_count": 4,
     "metadata": {},
     "output_type": "execute_result"
    }
   ],
   "source": [
    "def plot_theta(ytm):\n",
    "    xs = 5.0\n",
    "    # Create the Figure.\n",
    "    fig = plt.figure()\n",
    "    ax = plt.axes(projection='3d')\n",
    "\n",
    "    # Set the angle of the camera\n",
    "    ax.view_init(25, -45)\n",
    "\n",
    "    # Add latex math labels.\n",
    "    ax.set_xlabel(r'$x$')\n",
    "    ax.set_ylabel(r'$\\rho$')\n",
    "    ax.set_zlabel(r'$V(\\phi)$')\n",
    "\n",
    "    # Generate input vectors.\n",
    "    x = np.linspace(1.0, 8.0, num=160)\n",
    "    p = np.linspace(-4.0, 4.0, num=160)\n",
    "\n",
    "    # Generate coordinate matrices from coordinate vectors.\n",
    "    X, P = np.meshgrid(x, p)\n",
    "\n",
    "    # Set the axis limits so they aren't recalculated each frame.\n",
    "    ax.set_xlim(1.0, 8.0)\n",
    "    ax.set_ylim(-4, 4)\n",
    "    ax.set_zlim(-4.2, 4.2)\n",
    "\n",
    "    # Variables\n",
    "    # ytm = 8 # york time magnitude\n",
    "\n",
    "    # Calculate the metric tensor.\n",
    "    Z = theta(X, P, xs, ytm, 1)\n",
    "\n",
    "    # Plot the Surface.\n",
    "    # set cstride and rstride to 2 otherwise this is too slow\n",
    "    ax.plot_wireframe(X, P, Z, rstride=2, cstride=2, linewidth=0.5, antialiased=True, color='gray')\n",
    "\n",
    "    plt.show()\n",
    "\n",
    "widgets.interact(plot_theta, ytm=widgets.FloatSlider(min=0.1, max=12.0, step=0.1, value=8.0,\n",
    "                             continuous_update=False, description='York time magnitude'))"
   ]
  },
  {
   "cell_type": "code",
   "execution_count": 5,
   "id": "0305f22e",
   "metadata": {},
   "outputs": [
    {
     "data": {
      "application/vnd.jupyter.widget-view+json": {
       "model_id": "ce0457117a584d9893fd3915c83e0860",
       "version_major": 2,
       "version_minor": 0
      },
      "text/plain": [
       "interactive(children=(FloatSlider(value=8.0, continuous_update=False, description='Bubble thickness', max=120.…"
      ]
     },
     "metadata": {},
     "output_type": "display_data"
    },
    {
     "data": {
      "text/plain": [
       "<function __main__.plot_energy_density(sigma)>"
      ]
     },
     "execution_count": 5,
     "metadata": {},
     "output_type": "execute_result"
    }
   ],
   "source": [
    "# This is plot 2 for energy density magnitude\n",
    "\n",
    "def plot_energy_density(sigma):\n",
    "    xs = 5.0\n",
    "    # Create the Figure.\n",
    "    fig = plt.figure()\n",
    "    ax = plt.axes(projection='3d')\n",
    "\n",
    "    # Set the angle of the camera\n",
    "    ax.view_init(25, -45)\n",
    "\n",
    "    # Add latex math labels.\n",
    "    ax.set_xlabel(r'$x$')\n",
    "    ax.set_ylabel(r'$\\rho$')\n",
    "    ax.set_zlabel(r'$T^{00}$')\n",
    "\n",
    "    # Generate input vectors.\n",
    "    x = np.linspace(1.0, 8.0, num=160)\n",
    "    p = np.linspace(-4, 4, num=160)\n",
    "\n",
    "    # Generate coordinate matrices from coordinate vectors.\n",
    "    X, P = np.meshgrid(x, p)\n",
    "\n",
    "    # Set the axis limits so they aren't recalculated each frame.\n",
    "    ax.set_xlim(1.0, 8.0)\n",
    "    ax.set_ylim(-4, 4)\n",
    "    ax.set_zlim(1e-16, 1e16)\n",
    "    ax.ticklabel_format(scilimits=(0,0), useMathText=True)\n",
    "\n",
    "    # Variables\n",
    "    ytm = 8 # york time magnitude\n",
    "\n",
    "    # Calculate the energy density via the stress-energy tensor.\n",
    "    E = energy_density(X, P, xs, sigma)\n",
    "    \n",
    "\n",
    "    # Plot the Surface\n",
    "    # set cstride and rstride to 2 otherwise this is too slow\n",
    "    ax.plot_surface(X, P, E, rstride=2, cstride=2, cmap=plt.cm.coolwarm, linewidth=0.1)\n",
    "\n",
    "    plt.show()\n",
    "\n",
    "widgets.interact(plot_energy_density, sigma=widgets.FloatSlider(min=1, max=120, step=0.1, value=8.0,\n",
    "                             continuous_update=False, description='Bubble thickness'))"
   ]
  },
  {
   "cell_type": "code",
   "execution_count": null,
   "id": "2353940e",
   "metadata": {},
   "outputs": [],
   "source": []
  }
 ],
 "metadata": {
  "kernelspec": {
   "display_name": "Python 3 (ipykernel)",
   "language": "python",
   "name": "python3"
  },
  "language_info": {
   "codemirror_mode": {
    "name": "ipython",
    "version": 3
   },
   "file_extension": ".py",
   "mimetype": "text/x-python",
   "name": "python",
   "nbconvert_exporter": "python",
   "pygments_lexer": "ipython3",
   "version": "3.10.1"
  }
 },
 "nbformat": 4,
 "nbformat_minor": 5
}
